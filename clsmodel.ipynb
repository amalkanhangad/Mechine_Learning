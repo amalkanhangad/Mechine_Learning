{
 "cells": [
  {
   "cell_type": "code",
   "execution_count": null,
   "metadata": {},
   "outputs": [],
   "source": [
    "from sklearn.datasets import load_iris\n",
    "from sklearn.model_selection import train_test_split\n",
    "from sklearn.metrics import accuracy_score, precision_score, recall_score, f1_score, classification_report\n",
    "from sklearn.neighbors import KNeighborsClassifier\n",
    "\n",
    "iris = load_iris()\n",
    "\n",
    "X_train,X_test, Y_train,Y_test = train_test_split(iris.data, iris.target,test_size = 0.3,random_state = 42)\n",
    "knn_classifier = KNeighborsClassifier()\n",
    "knn_classifier.fit(X_train,Y_train)\n",
    "\n",
    "y_pred = knn_classifier.predict(X_test)\n",
    "accuracy = accuracy_score(Y_test,y_pred)\n",
    "precision = precision_score(Y_test,y_pred)\n",
    "print(\"Accuracy:\",accuracy)\n",
    "print(\"precision\",precision)"
   ]
  }
 ],
 "metadata": {
  "language_info": {
   "name": "python"
  },
  "orig_nbformat": 4
 },
 "nbformat": 4,
 "nbformat_minor": 2
}
