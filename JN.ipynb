mymodel = LogisticRegression(C = 1e08)
mymodel = mymodel.fit(x,y)
print(mymodel)